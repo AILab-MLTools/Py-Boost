{
 "cells": [
  {
   "cell_type": "markdown",
   "metadata": {},
   "source": [
    "## Advanced options for multioutput handling"
   ]
  },
  {
   "cell_type": "markdown",
   "metadata": {},
   "source": [
    "### Imports"
   ]
  },
  {
   "cell_type": "code",
   "execution_count": 1,
   "metadata": {},
   "outputs": [],
   "source": [
    "import os\n",
    "# set the device to run\n",
    "os.environ[\"CUDA_DEVICE_ORDER\"] = \"PCI_BUS_ID\"\n",
    "os.environ[\"CUDA_VISIBLE_DEVICES\"] = \"1\"\n",
    "\n",
    "os.makedirs('../data', exist_ok=True)\n",
    "\n",
    "import pandas as pd\n",
    "from pandas import Series, DataFrame\n",
    "\n",
    "from sklearn.model_selection import train_test_split\n",
    "\n",
    "from py_boost import GradientBoosting, SketchBoost\n",
    "\n",
    "# strategies to deal with multiple outputs\n",
    "from py_boost.multioutput.sketching import *\n",
    "from py_boost.multioutput.target_splitter import *"
   ]
  },
  {
   "cell_type": "markdown",
   "metadata": {},
   "source": [
    "### Downloading data from OpenML"
   ]
  },
  {
   "cell_type": "code",
   "execution_count": 2,
   "metadata": {},
   "outputs": [
    {
     "name": "stdout",
     "output_type": "stream",
     "text": [
      "--2023-03-17 13:51:18--  https://www.openml.org/data/get_csv/19335692/file1c556677f875.csv\n",
      "Resolving www.openml.org (www.openml.org)... 131.155.11.11\n",
      "Connecting to www.openml.org (www.openml.org)|131.155.11.11|:443... connected.\n",
      "HTTP request sent, awaiting response... 307 Temporary Redirect\n",
      "Location: https://api.openml.org/data/get_csv/19335692/file1c556677f875.csv [following]\n",
      "--2023-03-17 13:51:18--  https://api.openml.org/data/get_csv/19335692/file1c556677f875.csv\n",
      "Resolving api.openml.org (api.openml.org)... 131.155.11.11\n",
      "Connecting to api.openml.org (api.openml.org)|131.155.11.11|:443... connected.\n",
      "HTTP request sent, awaiting response... 200 OK\n",
      "Length: unspecified [text/plain]\n",
      "Saving to: ‘../data/helena.csv’\n",
      "\n",
      "../data/helena.csv      [      <=>           ]  14.56M  12.0MB/s    in 1.2s    \n",
      "\n",
      "2023-03-17 13:51:20 (12.0 MB/s) - ‘../data/helena.csv’ saved [15271704]\n",
      "\n"
     ]
    }
   ],
   "source": [
    "!wget https://www.openml.org/data/get_csv/19335692/file1c556677f875.csv -O ../data/helena.csv"
   ]
  },
  {
   "cell_type": "code",
   "execution_count": 3,
   "metadata": {},
   "outputs": [
    {
     "data": {
      "text/html": [
       "<div>\n",
       "<style scoped>\n",
       "    .dataframe tbody tr th:only-of-type {\n",
       "        vertical-align: middle;\n",
       "    }\n",
       "\n",
       "    .dataframe tbody tr th {\n",
       "        vertical-align: top;\n",
       "    }\n",
       "\n",
       "    .dataframe thead th {\n",
       "        text-align: right;\n",
       "    }\n",
       "</style>\n",
       "<table border=\"1\" class=\"dataframe\">\n",
       "  <thead>\n",
       "    <tr style=\"text-align: right;\">\n",
       "      <th></th>\n",
       "      <th>class</th>\n",
       "      <th>V1</th>\n",
       "      <th>V2</th>\n",
       "      <th>V3</th>\n",
       "      <th>V4</th>\n",
       "      <th>V5</th>\n",
       "      <th>V6</th>\n",
       "      <th>V7</th>\n",
       "      <th>V8</th>\n",
       "      <th>V9</th>\n",
       "      <th>...</th>\n",
       "      <th>V18</th>\n",
       "      <th>V19</th>\n",
       "      <th>V20</th>\n",
       "      <th>V21</th>\n",
       "      <th>V22</th>\n",
       "      <th>V23</th>\n",
       "      <th>V24</th>\n",
       "      <th>V25</th>\n",
       "      <th>V26</th>\n",
       "      <th>V27</th>\n",
       "    </tr>\n",
       "  </thead>\n",
       "  <tbody>\n",
       "    <tr>\n",
       "      <th>0</th>\n",
       "      <td>41</td>\n",
       "      <td>0.005521</td>\n",
       "      <td>0.080556</td>\n",
       "      <td>0.110417</td>\n",
       "      <td>0.490822</td>\n",
       "      <td>0.586406</td>\n",
       "      <td>0.066414</td>\n",
       "      <td>0.092206</td>\n",
       "      <td>0.116352</td>\n",
       "      <td>0.379310</td>\n",
       "      <td>...</td>\n",
       "      <td>-0.342986</td>\n",
       "      <td>78.6894</td>\n",
       "      <td>17.237800</td>\n",
       "      <td>21.504200</td>\n",
       "      <td>14.43730</td>\n",
       "      <td>17.378000</td>\n",
       "      <td>9.61674</td>\n",
       "      <td>-0.609370</td>\n",
       "      <td>1.044830</td>\n",
       "      <td>1.481790</td>\n",
       "    </tr>\n",
       "    <tr>\n",
       "      <th>1</th>\n",
       "      <td>92</td>\n",
       "      <td>0.049398</td>\n",
       "      <td>0.147917</td>\n",
       "      <td>0.541667</td>\n",
       "      <td>0.542865</td>\n",
       "      <td>0.515608</td>\n",
       "      <td>0.105128</td>\n",
       "      <td>0.475550</td>\n",
       "      <td>0.049555</td>\n",
       "      <td>0.383460</td>\n",
       "      <td>...</td>\n",
       "      <td>2.639370</td>\n",
       "      <td>59.7879</td>\n",
       "      <td>5.393410</td>\n",
       "      <td>3.819610</td>\n",
       "      <td>11.49240</td>\n",
       "      <td>3.929470</td>\n",
       "      <td>5.91423</td>\n",
       "      <td>1.409210</td>\n",
       "      <td>4.749540</td>\n",
       "      <td>1.103820</td>\n",
       "    </tr>\n",
       "    <tr>\n",
       "      <th>2</th>\n",
       "      <td>24</td>\n",
       "      <td>0.548663</td>\n",
       "      <td>1.000000</td>\n",
       "      <td>1.000000</td>\n",
       "      <td>0.397029</td>\n",
       "      <td>0.627398</td>\n",
       "      <td>1.023440</td>\n",
       "      <td>1.004220</td>\n",
       "      <td>0.027381</td>\n",
       "      <td>0.451337</td>\n",
       "      <td>...</td>\n",
       "      <td>0.137427</td>\n",
       "      <td>58.1429</td>\n",
       "      <td>-3.365980</td>\n",
       "      <td>-0.037489</td>\n",
       "      <td>10.63470</td>\n",
       "      <td>2.660180</td>\n",
       "      <td>3.93377</td>\n",
       "      <td>-0.898220</td>\n",
       "      <td>2.137790</td>\n",
       "      <td>1.054470</td>\n",
       "    </tr>\n",
       "    <tr>\n",
       "      <th>3</th>\n",
       "      <td>29</td>\n",
       "      <td>0.023073</td>\n",
       "      <td>0.206250</td>\n",
       "      <td>0.238889</td>\n",
       "      <td>0.622998</td>\n",
       "      <td>0.764067</td>\n",
       "      <td>0.202599</td>\n",
       "      <td>0.177892</td>\n",
       "      <td>0.071232</td>\n",
       "      <td>0.531712</td>\n",
       "      <td>...</td>\n",
       "      <td>0.477009</td>\n",
       "      <td>55.4798</td>\n",
       "      <td>-1.051090</td>\n",
       "      <td>-4.755360</td>\n",
       "      <td>13.36710</td>\n",
       "      <td>2.852060</td>\n",
       "      <td>9.65162</td>\n",
       "      <td>0.224397</td>\n",
       "      <td>-0.220216</td>\n",
       "      <td>-0.273287</td>\n",
       "    </tr>\n",
       "    <tr>\n",
       "      <th>4</th>\n",
       "      <td>91</td>\n",
       "      <td>0.224427</td>\n",
       "      <td>0.433333</td>\n",
       "      <td>0.902083</td>\n",
       "      <td>0.814199</td>\n",
       "      <td>0.576879</td>\n",
       "      <td>0.344413</td>\n",
       "      <td>0.822975</td>\n",
       "      <td>0.026121</td>\n",
       "      <td>0.425875</td>\n",
       "      <td>...</td>\n",
       "      <td>0.521306</td>\n",
       "      <td>76.8475</td>\n",
       "      <td>-19.371700</td>\n",
       "      <td>32.270700</td>\n",
       "      <td>9.41442</td>\n",
       "      <td>4.343450</td>\n",
       "      <td>8.67710</td>\n",
       "      <td>-1.587580</td>\n",
       "      <td>1.117870</td>\n",
       "      <td>-0.545338</td>\n",
       "    </tr>\n",
       "    <tr>\n",
       "      <th>...</th>\n",
       "      <td>...</td>\n",
       "      <td>...</td>\n",
       "      <td>...</td>\n",
       "      <td>...</td>\n",
       "      <td>...</td>\n",
       "      <td>...</td>\n",
       "      <td>...</td>\n",
       "      <td>...</td>\n",
       "      <td>...</td>\n",
       "      <td>...</td>\n",
       "      <td>...</td>\n",
       "      <td>...</td>\n",
       "      <td>...</td>\n",
       "      <td>...</td>\n",
       "      <td>...</td>\n",
       "      <td>...</td>\n",
       "      <td>...</td>\n",
       "      <td>...</td>\n",
       "      <td>...</td>\n",
       "      <td>...</td>\n",
       "      <td>...</td>\n",
       "    </tr>\n",
       "    <tr>\n",
       "      <th>65191</th>\n",
       "      <td>88</td>\n",
       "      <td>0.007292</td>\n",
       "      <td>0.152083</td>\n",
       "      <td>0.061111</td>\n",
       "      <td>0.114431</td>\n",
       "      <td>0.406104</td>\n",
       "      <td>0.143170</td>\n",
       "      <td>0.053086</td>\n",
       "      <td>0.129365</td>\n",
       "      <td>0.215442</td>\n",
       "      <td>...</td>\n",
       "      <td>1.265300</td>\n",
       "      <td>53.2951</td>\n",
       "      <td>-1.416430</td>\n",
       "      <td>2.173900</td>\n",
       "      <td>13.66950</td>\n",
       "      <td>1.588520</td>\n",
       "      <td>2.02855</td>\n",
       "      <td>0.619052</td>\n",
       "      <td>0.622377</td>\n",
       "      <td>-0.363035</td>\n",
       "    </tr>\n",
       "    <tr>\n",
       "      <th>65192</th>\n",
       "      <td>77</td>\n",
       "      <td>0.411279</td>\n",
       "      <td>1.000000</td>\n",
       "      <td>0.430556</td>\n",
       "      <td>0.503805</td>\n",
       "      <td>0.207163</td>\n",
       "      <td>1.003740</td>\n",
       "      <td>0.412067</td>\n",
       "      <td>0.017673</td>\n",
       "      <td>0.044771</td>\n",
       "      <td>...</td>\n",
       "      <td>-2.842380</td>\n",
       "      <td>91.1178</td>\n",
       "      <td>-0.009207</td>\n",
       "      <td>-2.224830</td>\n",
       "      <td>1.30504</td>\n",
       "      <td>0.898489</td>\n",
       "      <td>1.80362</td>\n",
       "      <td>-2.726140</td>\n",
       "      <td>-0.184329</td>\n",
       "      <td>-0.476441</td>\n",
       "    </tr>\n",
       "    <tr>\n",
       "      <th>65193</th>\n",
       "      <td>71</td>\n",
       "      <td>0.999352</td>\n",
       "      <td>1.000000</td>\n",
       "      <td>1.000000</td>\n",
       "      <td>0.501360</td>\n",
       "      <td>0.501075</td>\n",
       "      <td>0.999384</td>\n",
       "      <td>0.999414</td>\n",
       "      <td>0.009636</td>\n",
       "      <td>0.000648</td>\n",
       "      <td>...</td>\n",
       "      <td>0.213472</td>\n",
       "      <td>84.4141</td>\n",
       "      <td>2.042450</td>\n",
       "      <td>13.849800</td>\n",
       "      <td>7.24428</td>\n",
       "      <td>1.443890</td>\n",
       "      <td>4.00495</td>\n",
       "      <td>-0.749115</td>\n",
       "      <td>1.025130</td>\n",
       "      <td>0.096257</td>\n",
       "    </tr>\n",
       "    <tr>\n",
       "      <th>65194</th>\n",
       "      <td>24</td>\n",
       "      <td>0.206175</td>\n",
       "      <td>0.383333</td>\n",
       "      <td>0.944444</td>\n",
       "      <td>0.749915</td>\n",
       "      <td>0.550936</td>\n",
       "      <td>0.292477</td>\n",
       "      <td>0.830921</td>\n",
       "      <td>0.033542</td>\n",
       "      <td>0.430515</td>\n",
       "      <td>...</td>\n",
       "      <td>0.879472</td>\n",
       "      <td>61.4110</td>\n",
       "      <td>17.354200</td>\n",
       "      <td>5.566660</td>\n",
       "      <td>16.22600</td>\n",
       "      <td>10.049400</td>\n",
       "      <td>6.04195</td>\n",
       "      <td>0.400956</td>\n",
       "      <td>0.375599</td>\n",
       "      <td>0.644575</td>\n",
       "    </tr>\n",
       "    <tr>\n",
       "      <th>65195</th>\n",
       "      <td>9</td>\n",
       "      <td>0.003096</td>\n",
       "      <td>0.102083</td>\n",
       "      <td>0.066667</td>\n",
       "      <td>0.844969</td>\n",
       "      <td>0.054704</td>\n",
       "      <td>0.091855</td>\n",
       "      <td>0.052645</td>\n",
       "      <td>0.192523</td>\n",
       "      <td>0.545068</td>\n",
       "      <td>...</td>\n",
       "      <td>-1.676500</td>\n",
       "      <td>93.1596</td>\n",
       "      <td>0.559074</td>\n",
       "      <td>-0.852947</td>\n",
       "      <td>8.30315</td>\n",
       "      <td>1.215720</td>\n",
       "      <td>1.28395</td>\n",
       "      <td>-1.889180</td>\n",
       "      <td>2.350320</td>\n",
       "      <td>0.179997</td>\n",
       "    </tr>\n",
       "  </tbody>\n",
       "</table>\n",
       "<p>65196 rows × 28 columns</p>\n",
       "</div>"
      ],
      "text/plain": [
       "       class        V1        V2        V3        V4        V5        V6  \\\n",
       "0         41  0.005521  0.080556  0.110417  0.490822  0.586406  0.066414   \n",
       "1         92  0.049398  0.147917  0.541667  0.542865  0.515608  0.105128   \n",
       "2         24  0.548663  1.000000  1.000000  0.397029  0.627398  1.023440   \n",
       "3         29  0.023073  0.206250  0.238889  0.622998  0.764067  0.202599   \n",
       "4         91  0.224427  0.433333  0.902083  0.814199  0.576879  0.344413   \n",
       "...      ...       ...       ...       ...       ...       ...       ...   \n",
       "65191     88  0.007292  0.152083  0.061111  0.114431  0.406104  0.143170   \n",
       "65192     77  0.411279  1.000000  0.430556  0.503805  0.207163  1.003740   \n",
       "65193     71  0.999352  1.000000  1.000000  0.501360  0.501075  0.999384   \n",
       "65194     24  0.206175  0.383333  0.944444  0.749915  0.550936  0.292477   \n",
       "65195      9  0.003096  0.102083  0.066667  0.844969  0.054704  0.091855   \n",
       "\n",
       "             V7        V8        V9  ...       V18      V19        V20  \\\n",
       "0      0.092206  0.116352  0.379310  ... -0.342986  78.6894  17.237800   \n",
       "1      0.475550  0.049555  0.383460  ...  2.639370  59.7879   5.393410   \n",
       "2      1.004220  0.027381  0.451337  ...  0.137427  58.1429  -3.365980   \n",
       "3      0.177892  0.071232  0.531712  ...  0.477009  55.4798  -1.051090   \n",
       "4      0.822975  0.026121  0.425875  ...  0.521306  76.8475 -19.371700   \n",
       "...         ...       ...       ...  ...       ...      ...        ...   \n",
       "65191  0.053086  0.129365  0.215442  ...  1.265300  53.2951  -1.416430   \n",
       "65192  0.412067  0.017673  0.044771  ... -2.842380  91.1178  -0.009207   \n",
       "65193  0.999414  0.009636  0.000648  ...  0.213472  84.4141   2.042450   \n",
       "65194  0.830921  0.033542  0.430515  ...  0.879472  61.4110  17.354200   \n",
       "65195  0.052645  0.192523  0.545068  ... -1.676500  93.1596   0.559074   \n",
       "\n",
       "             V21       V22        V23      V24       V25       V26       V27  \n",
       "0      21.504200  14.43730  17.378000  9.61674 -0.609370  1.044830  1.481790  \n",
       "1       3.819610  11.49240   3.929470  5.91423  1.409210  4.749540  1.103820  \n",
       "2      -0.037489  10.63470   2.660180  3.93377 -0.898220  2.137790  1.054470  \n",
       "3      -4.755360  13.36710   2.852060  9.65162  0.224397 -0.220216 -0.273287  \n",
       "4      32.270700   9.41442   4.343450  8.67710 -1.587580  1.117870 -0.545338  \n",
       "...          ...       ...        ...      ...       ...       ...       ...  \n",
       "65191   2.173900  13.66950   1.588520  2.02855  0.619052  0.622377 -0.363035  \n",
       "65192  -2.224830   1.30504   0.898489  1.80362 -2.726140 -0.184329 -0.476441  \n",
       "65193  13.849800   7.24428   1.443890  4.00495 -0.749115  1.025130  0.096257  \n",
       "65194   5.566660  16.22600  10.049400  6.04195  0.400956  0.375599  0.644575  \n",
       "65195  -0.852947   8.30315   1.215720  1.28395 -1.889180  2.350320  0.179997  \n",
       "\n",
       "[65196 rows x 28 columns]"
      ]
     },
     "execution_count": 3,
     "metadata": {},
     "output_type": "execute_result"
    }
   ],
   "source": [
    "data = pd.read_csv('../data/helena.csv')\n",
    "\n",
    "data"
   ]
  },
  {
   "cell_type": "code",
   "execution_count": 4,
   "metadata": {},
   "outputs": [
    {
     "data": {
      "text/plain": [
       "78    4005\n",
       "55    3063\n",
       "40    2992\n",
       "39    2623\n",
       "38    2216\n",
       "      ... \n",
       "75     121\n",
       "56     121\n",
       "32     119\n",
       "34     116\n",
       "10     111\n",
       "Name: class, Length: 100, dtype: int64"
      ]
     },
     "execution_count": 4,
     "metadata": {},
     "output_type": "execute_result"
    }
   ],
   "source": [
    "data['class'].value_counts()"
   ]
  },
  {
   "cell_type": "markdown",
   "metadata": {},
   "source": [
    "Looks like we have 100 classes here ..."
   ]
  },
  {
   "cell_type": "code",
   "execution_count": 5,
   "metadata": {},
   "outputs": [],
   "source": [
    "X = data.drop('class', axis=1).values.astype('float32')\n",
    "y = data['class'].values.astype('int32')\n",
    "\n",
    "X, X_test, y, y_test = train_test_split(X, y, test_size=0.2, random_state=42, shuffle=True)"
   ]
  },
  {
   "cell_type": "markdown",
   "metadata": {},
   "source": [
    "### Traininig a multiclass model\n",
    "\n",
    "A simple use case for training a multiclass problem is the same as for regression. By default py_boost builds multioutout trees to handle multioutput problems (single tree outputs a vector of length 100 for 100 class task).\n"
   ]
  },
  {
   "cell_type": "code",
   "execution_count": 6,
   "metadata": {},
   "outputs": [
    {
     "name": "stdout",
     "output_type": "stream",
     "text": [
      "[13:51:26] Stdout logging level is INFO.\n",
      "[13:51:26] GDBT train starts. Max iter 10000, early stopping rounds 300\n",
      "[13:51:26] Iter 0; Sample 0, Crossentropy = 4.285501684715281; \n",
      "[13:51:33] Iter 100; Sample 0, Crossentropy = 2.7762957662313448; \n",
      "[13:51:41] Iter 200; Sample 0, Crossentropy = 2.653432020829007; \n",
      "[13:51:49] Iter 300; Sample 0, Crossentropy = 2.612068716864302; \n",
      "[13:51:57] Iter 400; Sample 0, Crossentropy = 2.591455786897159; \n",
      "[13:52:05] Iter 500; Sample 0, Crossentropy = 2.5793296898387608; \n",
      "[13:52:14] Iter 600; Sample 0, Crossentropy = 2.5728900071483705; \n",
      "[13:52:23] Iter 700; Sample 0, Crossentropy = 2.5679543805480676; \n",
      "[13:52:32] Iter 800; Sample 0, Crossentropy = 2.565229903765837; \n",
      "[13:52:41] Iter 900; Sample 0, Crossentropy = 2.563097641548163; \n",
      "[13:52:50] Iter 1000; Sample 0, Crossentropy = 2.561640682449919; \n",
      "[13:53:00] Iter 1100; Sample 0, Crossentropy = 2.5606844985705646; \n",
      "[13:53:09] Iter 1200; Sample 0, Crossentropy = 2.560342937220701; \n",
      "[13:53:18] Iter 1300; Sample 0, Crossentropy = 2.559571840768554; \n",
      "[13:53:27] Iter 1400; Sample 0, Crossentropy = 2.5597840621451686; \n",
      "[13:53:35] Iter 1500; Sample 0, Crossentropy = 2.5606596614980974; \n",
      "[13:53:44] Iter 1600; Sample 0, Crossentropy = 2.5609732670317493; \n",
      "[13:53:46] Early stopping at iter 1630, best iter 1330, best_score 2.559450246995359\n",
      "CPU times: user 1min 58s, sys: 23 s, total: 2min 21s\n",
      "Wall time: 2min 25s\n"
     ]
    },
    {
     "data": {
      "text/plain": [
       "<py_boost.gpu.boosting.GradientBoosting at 0x7f7791029850>"
      ]
     },
     "execution_count": 6,
     "metadata": {},
     "output_type": "execute_result"
    }
   ],
   "source": [
    "%%time\n",
    "model = GradientBoosting('crossentropy',\n",
    "                         ntrees=10000, lr=0.03, verbose=100, es=300, lambda_l2=1, gd_steps=1,\n",
    "                         subsample=1, colsample=1, min_data_in_leaf=10, use_hess=True,\n",
    "                         max_bin=256, max_depth=6)\n",
    "\n",
    "model.fit(X, y, \n",
    "          eval_sets = [{'X': X_test, 'y': y_test}])"
   ]
  },
  {
   "cell_type": "code",
   "execution_count": 9,
   "metadata": {},
   "outputs": [
    {
     "name": "stdout",
     "output_type": "stream",
     "text": [
      "CPU times: user 44.1 ms, sys: 3.88 ms, total: 48 ms\n",
      "Wall time: 46.7 ms\n"
     ]
    },
    {
     "data": {
      "text/plain": [
       "(13040, 100)"
      ]
     },
     "execution_count": 9,
     "metadata": {},
     "output_type": "execute_result"
    }
   ],
   "source": [
    "%%time\n",
    "pred = model.predict(X_test)\n",
    "pred.shape"
   ]
  },
  {
   "cell_type": "code",
   "execution_count": 20,
   "metadata": {},
   "outputs": [
    {
     "ename": "Exception",
     "evalue": "To use _deprecated funcs pass debug=True to .reformat",
     "output_type": "error",
     "traceback": [
      "\u001b[0;31m---------------------------------------------------------------------------\u001b[0m",
      "\u001b[0;31mException\u001b[0m                                 Traceback (most recent call last)",
      "Input \u001b[0;32mIn [20]\u001b[0m, in \u001b[0;36m<cell line: 1>\u001b[0;34m()\u001b[0m\n\u001b[0;32m----> 1\u001b[0m \u001b[43mmodel\u001b[49m\u001b[38;5;241;43m.\u001b[39;49m\u001b[43m_predict_deprecated\u001b[49m\u001b[43m(\u001b[49m\u001b[43mX_test\u001b[49m\u001b[43m)\u001b[49m\n",
      "File \u001b[0;32m~/miniconda3/envs/rapids-22.06/lib/python3.9/site-packages/py_boost/gpu/base.py:132\u001b[0m, in \u001b[0;36mEnsemble._predict_deprecated\u001b[0;34m(self, X, batch_size)\u001b[0m\n\u001b[1;32m    130\u001b[0m result[:] \u001b[38;5;241m=\u001b[39m \u001b[38;5;28mself\u001b[39m\u001b[38;5;241m.\u001b[39mbase_score\n\u001b[1;32m    131\u001b[0m \u001b[38;5;28;01mfor\u001b[39;00m n, tree \u001b[38;5;129;01min\u001b[39;00m \u001b[38;5;28menumerate\u001b[39m(\u001b[38;5;28mself\u001b[39m\u001b[38;5;241m.\u001b[39mmodels):\n\u001b[0;32m--> 132\u001b[0m     result \u001b[38;5;241m+\u001b[39m\u001b[38;5;241m=\u001b[39m \u001b[43mtree\u001b[49m\u001b[38;5;241;43m.\u001b[39;49m\u001b[43m_predict_deprecated\u001b[49m\u001b[43m(\u001b[49m\u001b[43mgpu_batch\u001b[49m\u001b[43m)\u001b[49m\n\u001b[1;32m    134\u001b[0m \u001b[38;5;28mself\u001b[39m\u001b[38;5;241m.\u001b[39mpostprocess_fn(result)\u001b[38;5;241m.\u001b[39mget(stream\u001b[38;5;241m=\u001b[39mst, out\u001b[38;5;241m=\u001b[39mprediction[i: i \u001b[38;5;241m+\u001b[39m x_batch\u001b[38;5;241m.\u001b[39mshape[\u001b[38;5;241m0\u001b[39m]])\n\u001b[1;32m    136\u001b[0m stop_event \u001b[38;5;241m=\u001b[39m st\u001b[38;5;241m.\u001b[39mrecord()\n",
      "File \u001b[0;32m~/miniconda3/envs/rapids-22.06/lib/python3.9/site-packages/py_boost/gpu/tree.py:259\u001b[0m, in \u001b[0;36mTree._predict_deprecated\u001b[0;34m(self, X)\u001b[0m\n\u001b[1;32m    250\u001b[0m \u001b[38;5;28;01mdef\u001b[39;00m \u001b[38;5;21m_predict_deprecated\u001b[39m(\u001b[38;5;28mself\u001b[39m, X):\n\u001b[1;32m    251\u001b[0m \u001b[38;5;250m    \u001b[39m\u001b[38;5;124;03m\"\"\"(DEPRECATED) Predict from the feature matrix X\u001b[39;00m\n\u001b[1;32m    252\u001b[0m \n\u001b[1;32m    253\u001b[0m \u001b[38;5;124;03m    Args:\u001b[39;00m\n\u001b[0;32m   (...)\u001b[0m\n\u001b[1;32m    257\u001b[0m \u001b[38;5;124;03m        cp.ndarray of predictions\u001b[39;00m\n\u001b[1;32m    258\u001b[0m \u001b[38;5;124;03m    \"\"\"\u001b[39;00m\n\u001b[0;32m--> 259\u001b[0m     \u001b[38;5;28;01mreturn\u001b[39;00m \u001b[38;5;28mself\u001b[39m\u001b[38;5;241m.\u001b[39m_predict_from_nodes_deprecated(\u001b[38;5;28mself\u001b[39m\u001b[38;5;241m.\u001b[39m_predict_leaf_from_nodes_deprecated(\u001b[38;5;28;43mself\u001b[39;49m\u001b[38;5;241;43m.\u001b[39;49m\u001b[43m_predict_node_deprecated\u001b[49m\u001b[43m(\u001b[49m\u001b[43mX\u001b[49m\u001b[43m)\u001b[49m))\n",
      "File \u001b[0;32m~/miniconda3/envs/rapids-22.06/lib/python3.9/site-packages/py_boost/gpu/tree.py:222\u001b[0m, in \u001b[0;36mTree._predict_node_deprecated\u001b[0;34m(self, X)\u001b[0m\n\u001b[1;32m    213\u001b[0m \u001b[38;5;250m\u001b[39m\u001b[38;5;124;03m\"\"\"(DEPRECATED) Predict node id from the feature matrix X\u001b[39;00m\n\u001b[1;32m    214\u001b[0m \n\u001b[1;32m    215\u001b[0m \u001b[38;5;124;03mArgs:\u001b[39;00m\n\u001b[0;32m   (...)\u001b[0m\n\u001b[1;32m    219\u001b[0m \n\u001b[1;32m    220\u001b[0m \u001b[38;5;124;03m\"\"\"\u001b[39;00m\n\u001b[1;32m    221\u001b[0m \u001b[38;5;28;01mif\u001b[39;00m \u001b[38;5;28mself\u001b[39m\u001b[38;5;241m.\u001b[39mfeats \u001b[38;5;129;01mis\u001b[39;00m \u001b[38;5;28;01mNone\u001b[39;00m:\n\u001b[0;32m--> 222\u001b[0m     \u001b[38;5;28;01mraise\u001b[39;00m \u001b[38;5;167;01mException\u001b[39;00m(\u001b[38;5;124m'\u001b[39m\u001b[38;5;124mTo use _deprecated funcs pass debug=True to .reformat\u001b[39m\u001b[38;5;124m'\u001b[39m) \n\u001b[1;32m    224\u001b[0m \u001b[38;5;28;01massert\u001b[39;00m \u001b[38;5;28mtype\u001b[39m(\u001b[38;5;28mself\u001b[39m\u001b[38;5;241m.\u001b[39mfeats) \u001b[38;5;129;01mis\u001b[39;00m cp\u001b[38;5;241m.\u001b[39mndarray, \u001b[38;5;124m'\u001b[39m\u001b[38;5;124mShould be moved to GPU first. Call .to_device()\u001b[39m\u001b[38;5;124m'\u001b[39m\n\u001b[1;32m    225\u001b[0m nodes \u001b[38;5;241m=\u001b[39m get_tree_node(X, \u001b[38;5;28mself\u001b[39m\u001b[38;5;241m.\u001b[39mfeats, \u001b[38;5;28mself\u001b[39m\u001b[38;5;241m.\u001b[39mval_splits, \u001b[38;5;28mself\u001b[39m\u001b[38;5;241m.\u001b[39msplit, \u001b[38;5;28mself\u001b[39m\u001b[38;5;241m.\u001b[39mnans)\n",
      "\u001b[0;31mException\u001b[0m: To use _deprecated funcs pass debug=True to .reformat"
     ]
    }
   ],
   "source": [
    "model._predict_deprecated(X_test)"
   ]
  },
  {
   "cell_type": "markdown",
   "metadata": {},
   "source": [
    "### Sketching strategies to speedup training\n",
    "\n",
    "Computational costs of training multioutput models drastically increase when number of output grows. We implemented a few strategies to simplify tree structure search via gradinet matrix sketching:\n",
    "\n",
    "* ***RandomSamplingSketch*** (recommended for use_hess=True)\n",
    "* ***RandomProjectionSketch*** (recommended for use_hess=False)\n",
    "* ***TopOutputsSketch***\n",
    "* ***SVDSketch*** (needs RAPIDS (cuml) to be installed)\n",
    "\n",
    "Let us check, how it works."
   ]
  },
  {
   "cell_type": "code",
   "execution_count": 83,
   "metadata": {},
   "outputs": [
    {
     "name": "stdout",
     "output_type": "stream",
     "text": [
      "[15:03:59] Stdout logging level is INFO.\n",
      "[15:03:59] GDBT train starts. Max iter 10000, early stopping rounds 300\n",
      "[15:03:59] Iter 0; Sample 0, Crossentropy = 4.3778085723456694; \n",
      "[15:04:01] Iter 100; Sample 0, Crossentropy = 2.883051295425266; \n",
      "[15:04:02] Iter 200; Sample 0, Crossentropy = 2.7344353187776522; \n",
      "[15:04:03] Iter 300; Sample 0, Crossentropy = 2.6736021979622886; \n",
      "[15:04:04] Iter 400; Sample 0, Crossentropy = 2.6400149395512034; \n",
      "[15:04:06] Iter 500; Sample 0, Crossentropy = 2.61634384367524; \n",
      "[15:04:07] Iter 600; Sample 0, Crossentropy = 2.600246497753561; \n",
      "[15:04:08] Iter 700; Sample 0, Crossentropy = 2.5880620732922472; \n",
      "[15:04:09] Iter 800; Sample 0, Crossentropy = 2.578024176804096; \n",
      "[15:04:11] Iter 900; Sample 0, Crossentropy = 2.5706890512590435; \n",
      "[15:04:12] Iter 1000; Sample 0, Crossentropy = 2.5651760386463276; \n",
      "[15:04:13] Iter 1100; Sample 0, Crossentropy = 2.5599363816837255; \n",
      "[15:04:14] Iter 1200; Sample 0, Crossentropy = 2.5562656463980735; \n",
      "[15:04:16] Iter 1300; Sample 0, Crossentropy = 2.5530048671718113; \n",
      "[15:04:17] Iter 1400; Sample 0, Crossentropy = 2.5497901150148947; \n",
      "[15:04:18] Iter 1500; Sample 0, Crossentropy = 2.5475583656394742; \n",
      "[15:04:19] Iter 1600; Sample 0, Crossentropy = 2.5456065806691868; \n",
      "[15:04:21] Iter 1700; Sample 0, Crossentropy = 2.5444452530250596; \n",
      "[15:04:22] Iter 1800; Sample 0, Crossentropy = 2.5429376562675965; \n",
      "[15:04:23] Iter 1900; Sample 0, Crossentropy = 2.542183307997171; \n",
      "[15:04:24] Iter 2000; Sample 0, Crossentropy = 2.5418030224546455; \n",
      "[15:04:26] Iter 2100; Sample 0, Crossentropy = 2.541594047487329; \n",
      "[15:04:27] Iter 2200; Sample 0, Crossentropy = 2.54161574068084; \n",
      "[15:04:28] Iter 2300; Sample 0, Crossentropy = 2.5417588780084146; \n",
      "[15:04:29] Iter 2400; Sample 0, Crossentropy = 2.5420308168135994; \n",
      "[15:04:30] Early stopping at iter 2462, best iter 2162, best_score 2.54140451229949\n",
      "CPU times: user 30.9 s, sys: 329 ms, total: 31.3 s\n",
      "Wall time: 30.7 s\n"
     ]
    },
    {
     "data": {
      "text/plain": [
       "<py_boost.gpu.boosting.GradientBoosting at 0x7f75240954c0>"
      ]
     },
     "execution_count": 83,
     "metadata": {},
     "output_type": "execute_result"
    }
   ],
   "source": [
    "%%time\n",
    "\n",
    "sketch = RandomProjectionSketch(1)\n",
    "# sketch = RandomSamplingSketch(10)\n",
    "# sketch = TopOutputsSketch(10)\n",
    "# sketch = SVDSketch(n_components=1)\n",
    "\n",
    "model = GradientBoosting('crossentropy',\n",
    "                         ntrees=10000, lr=0.03, verbose=100, es=300, lambda_l2=1, gd_steps=1, \n",
    "                         subsample=1, colsample=1, min_data_in_leaf=10, use_hess=False, \n",
    "                         max_bin=256, max_depth=6,\n",
    "                         multioutput_sketch=sketch, debug=True\n",
    "                        )\n",
    "\n",
    "model.fit(X, y, eval_sets = [{'X': X_test, 'y': y_test}])"
   ]
  },
  {
   "cell_type": "code",
   "execution_count": 85,
   "metadata": {},
   "outputs": [
    {
     "name": "stdout",
     "output_type": "stream",
     "text": [
      "CPU times: user 67.9 ms, sys: 191 µs, total: 68 ms\n",
      "Wall time: 67.2 ms\n"
     ]
    },
    {
     "data": {
      "text/plain": [
       "(13040, 100)"
      ]
     },
     "execution_count": 85,
     "metadata": {},
     "output_type": "execute_result"
    }
   ],
   "source": [
    "%%time\n",
    "pred = model.predict(X_test)\n",
    "pred.shape"
   ]
  },
  {
   "cell_type": "code",
   "execution_count": 24,
   "metadata": {},
   "outputs": [
    {
     "data": {
      "text/plain": [
       "True"
      ]
     },
     "execution_count": 24,
     "metadata": {},
     "output_type": "execute_result"
    }
   ],
   "source": [
    "(model.predict(X_test) == model._predict_deprecated(X_test)).all()"
   ]
  },
  {
   "cell_type": "code",
   "execution_count": 26,
   "metadata": {},
   "outputs": [
    {
     "data": {
      "text/plain": [
       "True"
      ]
     },
     "execution_count": 26,
     "metadata": {},
     "output_type": "execute_result"
    }
   ],
   "source": [
    "(model.predict_leaves(X_test, iterations=[100, 500, 999]) \n",
    "     == model._predict_leaves_deprecated(X_test, iterations=[100, 500, 999])).all()"
   ]
  },
  {
   "cell_type": "code",
   "execution_count": 27,
   "metadata": {},
   "outputs": [
    {
     "data": {
      "text/plain": [
       "True"
      ]
     },
     "execution_count": 27,
     "metadata": {},
     "output_type": "execute_result"
    }
   ],
   "source": [
    "(model.predict_staged(X_test, iterations=[100, 500, 999]) \n",
    "     == model._predict_staged_deprecated(X_test, iterations=[100, 500, 999])).all()"
   ]
  },
  {
   "cell_type": "code",
   "execution_count": 86,
   "metadata": {},
   "outputs": [
    {
     "name": "stderr",
     "output_type": "stream",
     "text": [
      "100%|███████████████████████████████████████████████████████████████████████████████| 2162/2162 [01:18<00:00, 27.56it/s]\n"
     ]
    }
   ],
   "source": [
    "from py_boost import TLPredictor\n",
    "\n",
    "tl = TLPredictor(model)"
   ]
  },
  {
   "cell_type": "code",
   "execution_count": 87,
   "metadata": {},
   "outputs": [],
   "source": [
    "tl.dump('temp_mod')"
   ]
  },
  {
   "cell_type": "code",
   "execution_count": 88,
   "metadata": {},
   "outputs": [
    {
     "name": "stdout",
     "output_type": "stream",
     "text": [
      "  adding: temp_mod/ (stored 0%)\n",
      "  adding: temp_mod/model.mod (deflated 29%)\n",
      "  adding: temp_mod/predictor.pkl (deflated 16%)\n"
     ]
    }
   ],
   "source": [
    "!zip -r temp_mod.zip temp_mod"
   ]
  },
  {
   "cell_type": "code",
   "execution_count": 35,
   "metadata": {},
   "outputs": [
    {
     "data": {
      "text/plain": [
       "True"
      ]
     },
     "execution_count": 35,
     "metadata": {},
     "output_type": "execute_result"
    }
   ],
   "source": [
    "import numpy as np\n",
    "np.allclose(tl.predict(X_test), model.predict(X_test))"
   ]
  },
  {
   "cell_type": "code",
   "execution_count": 49,
   "metadata": {},
   "outputs": [
    {
     "name": "stdout",
     "output_type": "stream",
     "text": [
      "CPU times: user 171 ms, sys: 32 ms, total: 203 ms\n",
      "Wall time: 202 ms\n"
     ]
    },
    {
     "data": {
      "text/plain": [
       "array([[7.92986975e-05, 1.03937680e-04, 4.89788590e-06, ...,\n",
       "        1.27210194e-04, 6.00873791e-05, 5.13385312e-05],\n",
       "       [1.79671217e-04, 8.87905946e-04, 1.01042126e-04, ...,\n",
       "        2.33678424e-04, 3.01559427e-04, 1.79110240e-04],\n",
       "       [1.88973208e-03, 5.58319362e-03, 2.97509570e-04, ...,\n",
       "        9.49864276e-03, 3.40211438e-03, 1.86627824e-03],\n",
       "       ...,\n",
       "       [5.76336775e-03, 4.13657224e-04, 9.53435301e-05, ...,\n",
       "        1.68929156e-03, 7.25755747e-03, 2.87839514e-03],\n",
       "       [5.16558357e-04, 1.85979545e-04, 3.45449334e-05, ...,\n",
       "        4.18666936e-03, 1.17539717e-02, 1.48052573e-02],\n",
       "       [1.65079802e-03, 1.00071644e-04, 2.73768292e-05, ...,\n",
       "        5.56070218e-03, 3.71819420e-04, 4.82756505e-03]], dtype=float32)"
      ]
     },
     "execution_count": 49,
     "metadata": {},
     "output_type": "execute_result"
    }
   ],
   "source": [
    "%%time\n",
    "model.predict(X, batch_size=100000)"
   ]
  },
  {
   "cell_type": "code",
   "execution_count": 60,
   "metadata": {},
   "outputs": [],
   "source": [
    "X_gpu = cp.asarray(X_test).astype(np.int)"
   ]
  },
  {
   "cell_type": "code",
   "execution_count": 65,
   "metadata": {},
   "outputs": [
    {
     "data": {
      "text/plain": [
       "array(True)"
      ]
     },
     "execution_count": 65,
     "metadata": {},
     "output_type": "execute_result"
    }
   ],
   "source": [
    "(model.predict(X_gpu.astype(np.int32).astype(np.float32)) == model.predict(X_gpu)).all()"
   ]
  },
  {
   "cell_type": "code",
   "execution_count": 66,
   "metadata": {},
   "outputs": [
    {
     "data": {
      "text/plain": [
       "array(True)"
      ]
     },
     "execution_count": 66,
     "metadata": {},
     "output_type": "execute_result"
    }
   ],
   "source": [
    "(model.predict(X_gpu.astype(np.float64)) == model.predict(X_gpu)).all()"
   ]
  },
  {
   "cell_type": "code",
   "execution_count": 63,
   "metadata": {},
   "outputs": [
    {
     "name": "stdout",
     "output_type": "stream",
     "text": [
      "CPU times: user 67 ms, sys: 191 µs, total: 67.2 ms\n",
      "Wall time: 66.1 ms\n"
     ]
    },
    {
     "data": {
      "text/plain": [
       "numpy.dtype[float32]"
      ]
     },
     "execution_count": 63,
     "metadata": {},
     "output_type": "execute_result"
    }
   ],
   "source": [
    "%%time\n",
    "type(model.predict(X_gpu).dtype)"
   ]
  },
  {
   "cell_type": "code",
   "execution_count": 59,
   "metadata": {},
   "outputs": [
    {
     "data": {
      "text/plain": [
       "True"
      ]
     },
     "execution_count": 59,
     "metadata": {},
     "output_type": "execute_result"
    }
   ],
   "source": [
    "(model.predict(X_gpu).get() == model.predict(X_test)).all()"
   ]
  },
  {
   "cell_type": "code",
   "execution_count": 69,
   "metadata": {},
   "outputs": [
    {
     "name": "stdout",
     "output_type": "stream",
     "text": [
      "[14:55:46] Stdout logging level is INFO.\n",
      "[14:55:46] GDBT train starts. Max iter 10000, early stopping rounds 300\n",
      "[14:55:46] Iter 0; Sample 0, Crossentropy = 4.341088863432013; \n",
      "[14:55:49] Iter 100; Sample 0, Crossentropy = 2.8523654162821717; \n",
      "[14:55:53] Iter 200; Sample 0, Crossentropy = 2.7148256158758324; \n",
      "[14:55:56] Iter 300; Sample 0, Crossentropy = 2.6592810472134083; \n",
      "[14:56:00] Iter 400; Sample 0, Crossentropy = 2.627524283137471; \n",
      "[14:56:03] Iter 500; Sample 0, Crossentropy = 2.6067315133499114; \n",
      "[14:56:07] Iter 600; Sample 0, Crossentropy = 2.592725673805568; \n",
      "[14:56:10] Iter 700; Sample 0, Crossentropy = 2.5819170865334966; \n",
      "[14:56:14] Iter 800; Sample 0, Crossentropy = 2.5733000947590847; \n",
      "[14:56:17] Iter 900; Sample 0, Crossentropy = 2.5662782993664712; \n",
      "[14:56:21] Iter 1000; Sample 0, Crossentropy = 2.5608393948765977; \n",
      "[14:56:24] Iter 1100; Sample 0, Crossentropy = 2.556933511002062; \n",
      "[14:56:27] Iter 1200; Sample 0, Crossentropy = 2.553822672816694; \n",
      "[14:56:31] Iter 1300; Sample 0, Crossentropy = 2.550984175502451; \n",
      "[14:56:34] Iter 1400; Sample 0, Crossentropy = 2.5491826569588922; \n",
      "[14:56:38] Iter 1500; Sample 0, Crossentropy = 2.5473030945920403; \n",
      "[14:56:41] Iter 1600; Sample 0, Crossentropy = 2.546289056486502; \n",
      "[14:56:45] Iter 1700; Sample 0, Crossentropy = 2.5452339317086765; \n",
      "[14:56:48] Iter 1800; Sample 0, Crossentropy = 2.5447838173614934; \n",
      "[14:56:52] Iter 1900; Sample 0, Crossentropy = 2.544814447897386; \n",
      "[14:56:55] Iter 2000; Sample 0, Crossentropy = 2.5446176529644657; \n",
      "[14:56:59] Iter 2100; Sample 0, Crossentropy = 2.544839513950798; \n",
      "[14:57:02] Iter 2200; Sample 0, Crossentropy = 2.545495891741104; \n",
      "[14:57:06] Iter 2300; Sample 0, Crossentropy = 2.5465761747080085; \n",
      "[14:57:06] Early stopping at iter 2320, best iter 2020, best_score 2.544327242674903\n"
     ]
    },
    {
     "data": {
      "text/plain": [
       "<py_boost.gpu.boosting.GradientBoosting at 0x7f75248e4340>"
      ]
     },
     "execution_count": 69,
     "metadata": {},
     "output_type": "execute_result"
    }
   ],
   "source": [
    "from py_boost.multioutput.target_splitter import *\n",
    "\n",
    "sketch = RandomProjectionSketch(1)\n",
    "\n",
    "model = GradientBoosting('crossentropy',\n",
    "                         ntrees=10000, lr=0.03, verbose=100, es=300, lambda_l2=1, gd_steps=1, \n",
    "                         subsample=1, colsample=1, min_data_in_leaf=10, use_hess=False, \n",
    "                         max_bin=256, max_depth=6, target_splitter=RandomGroupsSplitter(3),\n",
    "                         multioutput_sketch=sketch, debug=True\n",
    "                        )\n",
    "\n",
    "model.fit(X, y, eval_sets = [{'X': X_test, 'y': y_test}])"
   ]
  },
  {
   "cell_type": "code",
   "execution_count": 73,
   "metadata": {},
   "outputs": [
    {
     "name": "stdout",
     "output_type": "stream",
     "text": [
      "CPU times: user 159 ms, sys: 40 ms, total: 199 ms\n",
      "Wall time: 198 ms\n"
     ]
    },
    {
     "data": {
      "text/plain": [
       "array([[4.4835768e-05, 5.7420519e-05, 1.4245013e-06, ..., 5.9342256e-05,\n",
       "        4.3078064e-05, 2.4062110e-05],\n",
       "       [1.4327238e-04, 5.5339001e-04, 5.9456692e-05, ..., 1.8374207e-04,\n",
       "        2.4802223e-04, 1.0591723e-04],\n",
       "       [2.3480167e-03, 4.0593329e-03, 3.1008717e-04, ..., 9.8660719e-03,\n",
       "        4.6063806e-03, 1.4488546e-03],\n",
       "       ...,\n",
       "       [4.9772295e-03, 7.4964983e-04, 1.4158348e-04, ..., 3.4838906e-03,\n",
       "        1.0539060e-02, 4.0259738e-03],\n",
       "       [4.1143541e-04, 1.1095267e-04, 3.0307368e-05, ..., 4.4401903e-03,\n",
       "        8.4680347e-03, 1.1251144e-02],\n",
       "       [1.6046517e-03, 1.1743393e-04, 1.9439613e-05, ..., 3.1640921e-03,\n",
       "        4.5393794e-04, 3.1366977e-03]], dtype=float32)"
      ]
     },
     "execution_count": 73,
     "metadata": {},
     "output_type": "execute_result"
    }
   ],
   "source": [
    "%%time\n",
    "model.predict(X)"
   ]
  },
  {
   "cell_type": "code",
   "execution_count": 75,
   "metadata": {},
   "outputs": [
    {
     "name": "stdout",
     "output_type": "stream",
     "text": [
      "CPU times: user 1.69 s, sys: 636 ms, total: 2.33 s\n",
      "Wall time: 2.34 s\n"
     ]
    },
    {
     "data": {
      "text/plain": [
       "True"
      ]
     },
     "execution_count": 75,
     "metadata": {},
     "output_type": "execute_result"
    }
   ],
   "source": [
    "%%time\n",
    "\n",
    "(model.predict(X_test) == model._predict_deprecated(X_test)).all()"
   ]
  },
  {
   "cell_type": "code",
   "execution_count": 77,
   "metadata": {},
   "outputs": [
    {
     "name": "stdout",
     "output_type": "stream",
     "text": [
      "CPU times: user 7.82 ms, sys: 0 ns, total: 7.82 ms\n",
      "Wall time: 6.84 ms\n"
     ]
    },
    {
     "data": {
      "text/plain": [
       "True"
      ]
     },
     "execution_count": 77,
     "metadata": {},
     "output_type": "execute_result"
    }
   ],
   "source": [
    "%%time\n",
    "(model.predict_leaves(X_test, iterations=[100, 500, 999]) \n",
    "     == model._predict_leaves_deprecated(X_test, iterations=[100, 500, 999])).all()"
   ]
  },
  {
   "cell_type": "code",
   "execution_count": 78,
   "metadata": {},
   "outputs": [
    {
     "name": "stdout",
     "output_type": "stream",
     "text": [
      "CPU times: user 859 ms, sys: 316 ms, total: 1.17 s\n",
      "Wall time: 1.18 s\n"
     ]
    },
    {
     "data": {
      "text/plain": [
       "True"
      ]
     },
     "execution_count": 78,
     "metadata": {},
     "output_type": "execute_result"
    }
   ],
   "source": [
    "%%time\n",
    "\n",
    "(model.predict_staged(X_test, iterations=[100, 500, 999]) \n",
    "     == model._predict_staged_deprecated(X_test, iterations=[100, 500, 999])).all()"
   ]
  },
  {
   "cell_type": "code",
   "execution_count": 79,
   "metadata": {},
   "outputs": [
    {
     "name": "stderr",
     "output_type": "stream",
     "text": [
      "  0%|                                                                                          | 0/2020 [00:00<?, ?it/s]\n"
     ]
    },
    {
     "ename": "AssertionError",
     "evalue": "Models with more than 1 group are not currently supported",
     "output_type": "error",
     "traceback": [
      "\u001b[0;31m---------------------------------------------------------------------------\u001b[0m",
      "\u001b[0;31mAssertionError\u001b[0m                            Traceback (most recent call last)",
      "Input \u001b[0;32mIn [79]\u001b[0m, in \u001b[0;36m<cell line: 1>\u001b[0;34m()\u001b[0m\n\u001b[0;32m----> 1\u001b[0m tl \u001b[38;5;241m=\u001b[39m \u001b[43mTLPredictor\u001b[49m\u001b[43m(\u001b[49m\u001b[43mmodel\u001b[49m\u001b[43m)\u001b[49m\n",
      "File \u001b[0;32m~/miniconda3/envs/rapids-22.06/lib/python3.9/site-packages/py_boost/utils/tl_wrapper.py:285\u001b[0m, in \u001b[0;36mTLPredictor.__init__\u001b[0;34m(self, model, postprocess_fn)\u001b[0m\n\u001b[1;32m    278\u001b[0m \u001b[38;5;250m\u001b[39m\u001b[38;5;124;03m\"\"\"\u001b[39;00m\n\u001b[1;32m    279\u001b[0m \n\u001b[1;32m    280\u001b[0m \u001b[38;5;124;03mArgs:\u001b[39;00m\n\u001b[1;32m    281\u001b[0m \u001b[38;5;124;03m    model: Py-Boost Ensemble\u001b[39;00m\n\u001b[1;32m    282\u001b[0m \u001b[38;5;124;03m    postprocess_fn: Callable or None, postprocessing function\u001b[39;00m\n\u001b[1;32m    283\u001b[0m \u001b[38;5;124;03m\"\"\"\u001b[39;00m\n\u001b[1;32m    284\u001b[0m model\u001b[38;5;241m.\u001b[39mto_cpu()\n\u001b[0;32m--> 285\u001b[0m \u001b[38;5;28mself\u001b[39m\u001b[38;5;241m.\u001b[39mtl_model \u001b[38;5;241m=\u001b[39m \u001b[43mconvert_pb_to_treelite\u001b[49m\u001b[43m(\u001b[49m\u001b[43mmodel\u001b[49m\u001b[43m)\u001b[49m\u001b[38;5;241m.\u001b[39mcommit()\n\u001b[1;32m    287\u001b[0m \u001b[38;5;28mself\u001b[39m\u001b[38;5;241m.\u001b[39mpostprocess_fn \u001b[38;5;241m=\u001b[39m postprocess_fn\n\u001b[1;32m    288\u001b[0m \u001b[38;5;28;01mif\u001b[39;00m postprocess_fn \u001b[38;5;129;01mis\u001b[39;00m \u001b[38;5;28;01mNone\u001b[39;00m:\n",
      "File \u001b[0;32m~/miniconda3/envs/rapids-22.06/lib/python3.9/site-packages/py_boost/utils/tl_wrapper.py:164\u001b[0m, in \u001b[0;36mconvert_pb_to_treelite\u001b[0;34m(model)\u001b[0m\n\u001b[1;32m    157\u001b[0m builder \u001b[38;5;241m=\u001b[39m treelite\u001b[38;5;241m.\u001b[39mModelBuilder(\n\u001b[1;32m    158\u001b[0m     num_feature\u001b[38;5;241m=\u001b[39mnfeats,\n\u001b[1;32m    159\u001b[0m     num_class\u001b[38;5;241m=\u001b[39mngroups,\n\u001b[1;32m    160\u001b[0m     pred_transform\u001b[38;5;241m=\u001b[39m\u001b[38;5;124m'\u001b[39m\u001b[38;5;124midentity_multiclass\u001b[39m\u001b[38;5;124m'\u001b[39m \u001b[38;5;28;01mif\u001b[39;00m ngroups \u001b[38;5;241m>\u001b[39m \u001b[38;5;241m1\u001b[39m \u001b[38;5;28;01melse\u001b[39;00m \u001b[38;5;124m'\u001b[39m\u001b[38;5;124midentity\u001b[39m\u001b[38;5;124m'\u001b[39m\n\u001b[1;32m    161\u001b[0m )\n\u001b[1;32m    163\u001b[0m \u001b[38;5;28;01mfor\u001b[39;00m tree \u001b[38;5;129;01min\u001b[39;00m tqdm(model\u001b[38;5;241m.\u001b[39mmodels):\n\u001b[0;32m--> 164\u001b[0m     builder\u001b[38;5;241m.\u001b[39mappend(\u001b[43mparse_pb_tree\u001b[49m\u001b[43m(\u001b[49m\u001b[43mtree\u001b[49m\u001b[43m)\u001b[49m)\n\u001b[1;32m    166\u001b[0m \u001b[38;5;66;03m# add bias tree\u001b[39;00m\n\u001b[1;32m    167\u001b[0m bias_tree \u001b[38;5;241m=\u001b[39m treelite\u001b[38;5;241m.\u001b[39mModelBuilder\u001b[38;5;241m.\u001b[39mTree()\n",
      "File \u001b[0;32m~/miniconda3/envs/rapids-22.06/lib/python3.9/site-packages/py_boost/utils/tl_wrapper.py:79\u001b[0m, in \u001b[0;36mparse_pb_tree\u001b[0;34m(tree)\u001b[0m\n\u001b[1;32m     70\u001b[0m \u001b[38;5;28;01mdef\u001b[39;00m \u001b[38;5;21mparse_pb_tree\u001b[39m(tree):\n\u001b[1;32m     71\u001b[0m \u001b[38;5;250m    \u001b[39m\u001b[38;5;124;03m\"\"\"Parse s single Py-Boost Tree to treelite.ModelBuilder.Tree format\u001b[39;00m\n\u001b[1;32m     72\u001b[0m \n\u001b[1;32m     73\u001b[0m \u001b[38;5;124;03m    Args:\u001b[39;00m\n\u001b[0;32m   (...)\u001b[0m\n\u001b[1;32m     77\u001b[0m \u001b[38;5;124;03m        treelite.ModelBuilder.Tree\u001b[39;00m\n\u001b[1;32m     78\u001b[0m \u001b[38;5;124;03m    \"\"\"\u001b[39;00m\n\u001b[0;32m---> 79\u001b[0m     \u001b[38;5;28;01massert\u001b[39;00m tree\u001b[38;5;241m.\u001b[39mngroups \u001b[38;5;241m==\u001b[39m \u001b[38;5;241m1\u001b[39m, \u001b[38;5;124m'\u001b[39m\u001b[38;5;124mModels with more than 1 group are not currently supported\u001b[39m\u001b[38;5;124m'\u001b[39m\n\u001b[1;32m     81\u001b[0m     \u001b[38;5;28;01mdef\u001b[39;00m \u001b[38;5;21mid_generator\u001b[39m():\n\u001b[1;32m     82\u001b[0m         id_num \u001b[38;5;241m=\u001b[39m \u001b[38;5;241m1\u001b[39m\n",
      "\u001b[0;31mAssertionError\u001b[0m: Models with more than 1 group are not currently supported"
     ]
    }
   ],
   "source": [
    "tl = TLPredictor(model)"
   ]
  },
  {
   "cell_type": "code",
   "execution_count": null,
   "metadata": {},
   "outputs": [],
   "source": []
  },
  {
   "cell_type": "code",
   "execution_count": null,
   "metadata": {},
   "outputs": [],
   "source": []
  },
  {
   "cell_type": "code",
   "execution_count": null,
   "metadata": {},
   "outputs": [],
   "source": []
  },
  {
   "cell_type": "markdown",
   "metadata": {},
   "source": [
    "### SketchBoost\n",
    "\n",
    "Alternatively you can use SketchBoost class with built in sketching strateges. Just define number of outputs to keep"
   ]
  },
  {
   "cell_type": "code",
   "execution_count": 80,
   "metadata": {},
   "outputs": [
    {
     "name": "stdout",
     "output_type": "stream",
     "text": [
      "[15:02:03] Stdout logging level is INFO.\n",
      "[15:02:03] GDBT train starts. Max iter 10000, early stopping rounds 300\n",
      "[15:02:03] Iter 0; Sample 0, Crossentropy = 4.373896923333266; \n",
      "[15:02:04] Iter 100; Sample 0, Crossentropy = 2.9071790400138897; \n",
      "[15:02:05] Iter 200; Sample 0, Crossentropy = 2.751372790040917; \n",
      "[15:02:07] Iter 300; Sample 0, Crossentropy = 2.689612644762575; \n",
      "[15:02:08] Iter 400; Sample 0, Crossentropy = 2.654457912345847; \n",
      "[15:02:09] Iter 500; Sample 0, Crossentropy = 2.6289987805125206; \n",
      "[15:02:10] Iter 600; Sample 0, Crossentropy = 2.6110376247041267; \n",
      "[15:02:12] Iter 700; Sample 0, Crossentropy = 2.5964840952865718; \n",
      "[15:02:13] Iter 800; Sample 0, Crossentropy = 2.58601272934291; \n",
      "[15:02:14] Iter 900; Sample 0, Crossentropy = 2.577037757546524; \n",
      "[15:02:16] Iter 1000; Sample 0, Crossentropy = 2.57100911166211; \n",
      "[15:02:17] Iter 1100; Sample 0, Crossentropy = 2.5650401636088813; \n",
      "[15:02:18] Iter 1200; Sample 0, Crossentropy = 2.560716934282162; \n",
      "[15:02:19] Iter 1300; Sample 0, Crossentropy = 2.5568731275671306; \n",
      "[15:02:21] Iter 1400; Sample 0, Crossentropy = 2.5534584940470677; \n",
      "[15:02:22] Iter 1500; Sample 0, Crossentropy = 2.5508273825757786; \n",
      "[15:02:23] Iter 1600; Sample 0, Crossentropy = 2.5481235769254558; \n",
      "[15:02:25] Iter 1700; Sample 0, Crossentropy = 2.54608993638231; \n",
      "[15:02:26] Iter 1800; Sample 0, Crossentropy = 2.544244396086761; \n",
      "[15:02:27] Iter 1900; Sample 0, Crossentropy = 2.5426018675879454; \n",
      "[15:02:29] Iter 2000; Sample 0, Crossentropy = 2.5421300469262325; \n",
      "[15:02:30] Iter 2100; Sample 0, Crossentropy = 2.5414818972902022; \n",
      "[15:02:31] Iter 2200; Sample 0, Crossentropy = 2.54130287226988; \n",
      "[15:02:33] Iter 2300; Sample 0, Crossentropy = 2.541096136795049; \n",
      "[15:02:34] Iter 2400; Sample 0, Crossentropy = 2.541378800179564; \n",
      "[15:02:35] Iter 2500; Sample 0, Crossentropy = 2.541977078000559; \n",
      "[15:02:36] Early stopping at iter 2582, best iter 2282, best_score 2.5409965717141483\n",
      "CPU times: user 33.8 s, sys: 333 ms, total: 34.1 s\n",
      "Wall time: 33.6 s\n"
     ]
    },
    {
     "data": {
      "text/plain": [
       "<py_boost.gpu.sketch_boost.SketchBoost at 0x7f751c7ec400>"
      ]
     },
     "execution_count": 80,
     "metadata": {},
     "output_type": "execute_result"
    }
   ],
   "source": [
    "%%time\n",
    "model = SketchBoost('crossentropy',\n",
    "                     ntrees=10000, lr=0.03, verbose=100, es=300, lambda_l2=1, gd_steps=1, \n",
    "                     subsample=1, colsample=1, min_data_in_leaf=10, \n",
    "                     max_bin=256, max_depth=6,\n",
    "                        )\n",
    "\n",
    "model.fit(X, y, eval_sets = [{'X': X_test, 'y': y_test}])"
   ]
  },
  {
   "cell_type": "code",
   "execution_count": 82,
   "metadata": {},
   "outputs": [
    {
     "data": {
      "text/plain": [
       "(13040, 100)"
      ]
     },
     "execution_count": 82,
     "metadata": {},
     "output_type": "execute_result"
    }
   ],
   "source": [
    "pred = model.predict(X_test)\n",
    "pred.shape"
   ]
  },
  {
   "cell_type": "markdown",
   "metadata": {},
   "source": [
    "#### We see a nice speed up and sometimes even a better accuracy!\n",
    "\n",
    "#### These modifications allow us to train a model faster than CatBoost does (with a similar setup)."
   ]
  },
  {
   "cell_type": "code",
   "execution_count": null,
   "metadata": {},
   "outputs": [],
   "source": [
    "%%time\n",
    "from catboost import CatBoostClassifier\n",
    "\n",
    "model = CatBoostClassifier(\n",
    "                       grow_policy='Depthwise', \n",
    "                       bootstrap_type='Bernoulli',\n",
    "                       subsample=1.,\n",
    "                       border_count=256, \n",
    "                       iterations=10000, \n",
    "                       od_wait=300,\n",
    "                       max_depth=6, \n",
    "                       devices='0:0', \n",
    "                       learning_rate=0.03, \n",
    "                       l2_leaf_reg=1, \n",
    "                       min_data_in_leaf=10, \n",
    "                       score_function='L2',\n",
    "                       model_shrink_mode='Constant',\n",
    "                       **{'task_type': 'GPU', 'verbose': 100, }\n",
    "                    )\n",
    "\n",
    "model.fit(X, y, eval_set = (X_test, y_test))    "
   ]
  }
 ],
 "metadata": {
  "kernelspec": {
   "display_name": "rapids-22.06",
   "language": "python",
   "name": "rapids-22.06"
  },
  "language_info": {
   "codemirror_mode": {
    "name": "ipython",
    "version": 3
   },
   "file_extension": ".py",
   "mimetype": "text/x-python",
   "name": "python",
   "nbconvert_exporter": "python",
   "pygments_lexer": "ipython3",
   "version": "3.9.13"
  }
 },
 "nbformat": 4,
 "nbformat_minor": 2
}
